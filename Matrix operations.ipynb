{
 "cells": [
  {
   "cell_type": "code",
   "execution_count": 7,
   "id": "320b3f49-dc15-4afa-9459-7f2fbb175efb",
   "metadata": {},
   "outputs": [
    {
     "name": "stdout",
     "output_type": "stream",
     "text": [
      "[[ 6  8]\n",
      " [10 12]]\n",
      "[[-4 -4]\n",
      " [-4 -4]]\n",
      "[[ 5 12]\n",
      " [21 32]]\n",
      "[[19 22]\n",
      " [43 50]]\n",
      "[[1 3]\n",
      " [2 4]]\n",
      "[[-2.   1. ]\n",
      " [ 1.5 -0.5]]\n"
     ]
    }
   ],
   "source": [
    "import numpy as np\n",
    "\n",
    "# Create sample matrices\n",
    "A = np.array([[1, 2], [3, 4]])\n",
    "B = np.array([[5, 6], [7, 8]])\n",
    "C_add = A + B\n",
    "print(C_add)\n",
    "C_sub = A - B\n",
    "print(C_sub)\n",
    "C_mul = A * B\n",
    "print(C_mul)\n",
    "C_dot = np.dot(A, B)\n",
    "print(C_dot)\n",
    "A_transpose = np.transpose(A)\n",
    "print(A_transpose)\n",
    "try:\n",
    "    A_inv = np.linalg.inv(A)\n",
    "except np.linalg.LinAlgError:\n",
    "    A_inv = None\n",
    "print(A_inv)"
   ]
  },
  {
   "cell_type": "code",
   "execution_count": 8,
   "id": "0b9b1127-5f24-4db4-873c-daf0c09797cf",
   "metadata": {},
   "outputs": [
    {
     "name": "stdout",
     "output_type": "stream",
     "text": [
      "[[[0.8        0.7882353  0.76862746 1.        ]\n",
      "  [0.81960785 0.80784315 0.7882353  1.        ]\n",
      "  [0.83137256 0.81960785 0.8        1.        ]\n",
      "  ...\n",
      "  [0.70980394 0.6745098  0.654902   1.        ]\n",
      "  [0.7372549  0.70980394 0.6862745  1.        ]\n",
      "  [0.7647059  0.7411765  0.72156864 1.        ]]\n",
      "\n",
      " [[0.8235294  0.8039216  0.7882353  1.        ]\n",
      "  [0.8352941  0.81960785 0.8        1.        ]\n",
      "  [0.84705883 0.83137256 0.8117647  1.        ]\n",
      "  ...\n",
      "  [0.72156864 0.6901961  0.67058825 1.        ]\n",
      "  [0.7372549  0.70980394 0.6862745  1.        ]\n",
      "  [0.7647059  0.7411765  0.72156864 1.        ]]\n",
      "\n",
      " [[0.84313726 0.81960785 0.8039216  1.        ]\n",
      "  [0.8509804  0.83137256 0.8156863  1.        ]\n",
      "  [0.8627451  0.8392157  0.8235294  1.        ]\n",
      "  ...\n",
      "  [0.7647059  0.7372549  0.7176471  1.        ]\n",
      "  [0.7607843  0.7411765  0.7137255  1.        ]\n",
      "  [0.78039217 0.7607843  0.7372549  1.        ]]\n",
      "\n",
      " ...\n",
      "\n",
      " [[0.5882353  0.4627451  0.3137255  1.        ]\n",
      "  [0.58431375 0.45882353 0.3137255  1.        ]\n",
      "  [0.5882353  0.45490196 0.3137255  1.        ]\n",
      "  ...\n",
      "  [0.79607844 0.77254903 0.7647059  1.        ]\n",
      "  [0.7921569  0.76862746 0.7607843  1.        ]\n",
      "  [0.7882353  0.76862746 0.75686276 1.        ]]\n",
      "\n",
      " [[0.5803922  0.45490196 0.30588236 1.        ]\n",
      "  [0.5764706  0.4509804  0.30588236 1.        ]\n",
      "  [0.5764706  0.4509804  0.30588236 1.        ]\n",
      "  ...\n",
      "  [0.8117647  0.7882353  0.78039217 1.        ]\n",
      "  [0.80784315 0.78431374 0.7764706  1.        ]\n",
      "  [0.79607844 0.7764706  0.76862746 1.        ]]\n",
      "\n",
      " [[0.5686275  0.4509804  0.29803923 1.        ]\n",
      "  [0.5686275  0.44313726 0.29803923 1.        ]\n",
      "  [0.5686275  0.44313726 0.29803923 1.        ]\n",
      "  ...\n",
      "  [0.81960785 0.79607844 0.7882353  1.        ]\n",
      "  [0.8156863  0.79607844 0.7882353  1.        ]\n",
      "  [0.79607844 0.7764706  0.76862746 1.        ]]]\n"
     ]
    }
   ],
   "source": [
    "\"\"\"Printing image as array\"\"\"\n",
    "import matplotlib.pyplot as plt\n",
    "import matplotlib.image as mpimg\n",
    "b_path = r\"C:\\Users\\BhavyeBhasin\\Downloads\\wolfss.png\" \n",
    "img = mpimg.imread(b_path)\n",
    "print(img)"
   ]
  },
  {
   "cell_type": "code",
   "execution_count": null,
   "id": "be7a2eb8-7243-4e5c-9d71-6ec0ff7150e5",
   "metadata": {},
   "outputs": [],
   "source": []
  }
 ],
 "metadata": {
  "kernelspec": {
   "display_name": "Python 3 (ipykernel)",
   "language": "python",
   "name": "python3"
  },
  "language_info": {
   "codemirror_mode": {
    "name": "ipython",
    "version": 3
   },
   "file_extension": ".py",
   "mimetype": "text/x-python",
   "name": "python",
   "nbconvert_exporter": "python",
   "pygments_lexer": "ipython3",
   "version": "3.11.7"
  }
 },
 "nbformat": 4,
 "nbformat_minor": 5
}
